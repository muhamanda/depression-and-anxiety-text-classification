{
  "nbformat": 4,
  "nbformat_minor": 0,
  "metadata": {
    "colab": {
      "name": "ML_Dicoding 1 (Advance).ipynb",
      "provenance": [],
      "collapsed_sections": []
    },
    "kernelspec": {
      "name": "python3",
      "display_name": "Python 3"
    },
    "language_info": {
      "name": "python"
    }
  },
  "cells": [
    {
      "cell_type": "markdown",
      "metadata": {
        "id": "0KH63fx6bTUg"
      },
      "source": [
        "### **Nama: Muhammad Amanda**\n",
        "### **Username: muh_amanda** \n",
        "### **Kota: Kota Jakarta Timur, DKI Jakarta**\n",
        "### *Waktu bergabung pada 12 May 2020*\n",
        "\n",
        "# Proyek Pertama : Membuat Model NLP dengan TensorFlow\n",
        "\n",
        "Dataset : [Depression and Anxiety in Twitter (ID)](https://www.kaggle.com/stevenhans/depression-and-anxiety-in-twitter-id)"
      ]
    },
    {
      "cell_type": "code",
      "metadata": {
        "colab": {
          "base_uri": "https://localhost:8080/"
        },
        "id": "ng4d74ZvT04p",
        "outputId": "b48a7fe6-2007-4f6b-9673-44102d1adea5"
      },
      "source": [
        "from google.colab import drive\n",
        "drive.mount('/content/drive')"
      ],
      "execution_count": 75,
      "outputs": [
        {
          "output_type": "stream",
          "text": [
            "Drive already mounted at /content/drive; to attempt to forcibly remount, call drive.mount(\"/content/drive\", force_remount=True).\n"
          ],
          "name": "stdout"
        }
      ]
    },
    {
      "cell_type": "code",
      "metadata": {
        "id": "E6rBNQwYZimY"
      },
      "source": [
        "import os\n",
        "os.environ['KAGGLE_CONFIG_DIR'] = \"/content\""
      ],
      "execution_count": 76,
      "outputs": []
    },
    {
      "cell_type": "code",
      "metadata": {
        "colab": {
          "base_uri": "https://localhost:8080/"
        },
        "id": "RnLFQVqOZvbH",
        "outputId": "07532a61-0f92-4fdb-a6f5-77c8ec47565d"
      },
      "source": [
        "%cd /content"
      ],
      "execution_count": 77,
      "outputs": [
        {
          "output_type": "stream",
          "text": [
            "/content\n"
          ],
          "name": "stdout"
        }
      ]
    },
    {
      "cell_type": "code",
      "metadata": {
        "colab": {
          "base_uri": "https://localhost:8080/"
        },
        "id": "17UGUXLYZ3AX",
        "outputId": "18bb3bc0-ee27-4cee-86fc-7550e529c500"
      },
      "source": [
        "!kaggle datasets download -d stevenhans/depression-and-anxiety-in-twitter-id"
      ],
      "execution_count": 78,
      "outputs": [
        {
          "output_type": "stream",
          "text": [
            "Warning: Your Kaggle API key is readable by other users on this system! To fix this, you can run 'chmod 600 /content/kaggle.json'\n",
            "Downloading depression-and-anxiety-in-twitter-id.zip to /content\n",
            "  0% 0.00/352k [00:00<?, ?B/s]\n",
            "100% 352k/352k [00:00<00:00, 52.9MB/s]\n"
          ],
          "name": "stdout"
        }
      ]
    },
    {
      "cell_type": "code",
      "metadata": {
        "colab": {
          "base_uri": "https://localhost:8080/"
        },
        "id": "4QUfsWI4aT8J",
        "outputId": "cd4f0bab-9c3f-45f9-d436-1fba9b3e21a8"
      },
      "source": [
        "!ls"
      ],
      "execution_count": 79,
      "outputs": [
        {
          "output_type": "stream",
          "text": [
            " datd_rand.csv\n",
            " datd_test.csv\n",
            " datd_train.csv\n",
            "'depression-and-anxiety-in-twitter-id?select=datd_rand.csv'\n",
            " depression-and-anxiety-in-twitter-id.zip\n",
            " drive\n",
            " kaggle.json\n",
            " sample_data\n"
          ],
          "name": "stdout"
        }
      ]
    },
    {
      "cell_type": "code",
      "metadata": {
        "colab": {
          "base_uri": "https://localhost:8080/"
        },
        "id": "DNIO7I-0aiwn",
        "outputId": "65237149-47a5-4327-f9ad-239f7b6236ab"
      },
      "source": [
        "#unzipping the zip files and deleting the zip files\n",
        "!unzip \\*.zip  && rm *.zip"
      ],
      "execution_count": 80,
      "outputs": [
        {
          "output_type": "stream",
          "text": [
            "Archive:  depression-and-anxiety-in-twitter-id.zip\n",
            "replace datd_rand.csv? [y]es, [n]o, [A]ll, [N]one, [r]ename: "
          ],
          "name": "stdout"
        }
      ]
    },
    {
      "cell_type": "markdown",
      "metadata": {
        "id": "KpvAGolYblF4"
      },
      "source": [
        "# **Import Dataset**\n",
        "\n",
        "file data yang digunakan datd_train.csv dengan 2000+ baris dan 2 label/kelas."
      ]
    },
    {
      "cell_type": "code",
      "metadata": {
        "colab": {
          "base_uri": "https://localhost:8080/"
        },
        "id": "734Un8I1TbYJ",
        "outputId": "2869f8b4-a925-4f1f-85a6-45043c6a3eee"
      },
      "source": [
        "import pandas as pd\n",
        "df = pd.read_csv('datd_train.csv')\n",
        "df.info()"
      ],
      "execution_count": 81,
      "outputs": [
        {
          "output_type": "stream",
          "text": [
            "<class 'pandas.core.frame.DataFrame'>\n",
            "RangeIndex: 2201 entries, 0 to 2200\n",
            "Data columns (total 2 columns):\n",
            " #   Column  Non-Null Count  Dtype \n",
            "---  ------  --------------  ----- \n",
            " 0   text    2201 non-null   object\n",
            " 1   label   2201 non-null   int64 \n",
            "dtypes: int64(1), object(1)\n",
            "memory usage: 34.5+ KB\n"
          ],
          "name": "stdout"
        }
      ]
    },
    {
      "cell_type": "markdown",
      "metadata": {
        "id": "K66TJ9tob1q_"
      },
      "source": [
        "# **one-hot-encoding**\n",
        "\n",
        "label kita berupa data kategorikal, maka kita perlu melakukan proses one-hot-encoding dan membuat dataframe baru."
      ]
    },
    {
      "cell_type": "code",
      "metadata": {
        "colab": {
          "base_uri": "https://localhost:8080/",
          "height": 204
        },
        "id": "ushD4v9qajVX",
        "outputId": "53b9fb8f-3b75-4ae4-d149-a0c5762f5772"
      },
      "source": [
        "\n",
        "category = pd.get_dummies(df[\"label\"])\n",
        "df_baru = pd.concat([df, category], axis=1)\n",
        "df_baru = df_baru.drop(columns='label')\n",
        "df_baru.head()"
      ],
      "execution_count": 82,
      "outputs": [
        {
          "output_type": "execute_result",
          "data": {
            "text/html": [
              "<div>\n",
              "<style scoped>\n",
              "    .dataframe tbody tr th:only-of-type {\n",
              "        vertical-align: middle;\n",
              "    }\n",
              "\n",
              "    .dataframe tbody tr th {\n",
              "        vertical-align: top;\n",
              "    }\n",
              "\n",
              "    .dataframe thead th {\n",
              "        text-align: right;\n",
              "    }\n",
              "</style>\n",
              "<table border=\"1\" class=\"dataframe\">\n",
              "  <thead>\n",
              "    <tr style=\"text-align: right;\">\n",
              "      <th></th>\n",
              "      <th>text</th>\n",
              "      <th>0</th>\n",
              "      <th>1</th>\n",
              "    </tr>\n",
              "  </thead>\n",
              "  <tbody>\n",
              "    <tr>\n",
              "      <th>0</th>\n",
              "      <td>oh pantesan tadi pada rame, ternyata monek mau...</td>\n",
              "      <td>1</td>\n",
              "      <td>0</td>\n",
              "    </tr>\n",
              "    <tr>\n",
              "      <th>1</th>\n",
              "      <td>Semakin bertambah usia, semakin cemas hidup.</td>\n",
              "      <td>1</td>\n",
              "      <td>0</td>\n",
              "    </tr>\n",
              "    <tr>\n",
              "      <th>2</th>\n",
              "      <td>gelisah bgt astaga</td>\n",
              "      <td>0</td>\n",
              "      <td>1</td>\n",
              "    </tr>\n",
              "    <tr>\n",
              "      <th>3</th>\n",
              "      <td>Udah jangan terlalu cemas sikapku tak berubah ...</td>\n",
              "      <td>1</td>\n",
              "      <td>0</td>\n",
              "    </tr>\n",
              "    <tr>\n",
              "      <th>4</th>\n",
              "      <td>Giliran Aldebaran diambang kematian...Semua ba...</td>\n",
              "      <td>1</td>\n",
              "      <td>0</td>\n",
              "    </tr>\n",
              "  </tbody>\n",
              "</table>\n",
              "</div>"
            ],
            "text/plain": [
              "                                                text  0  1\n",
              "0  oh pantesan tadi pada rame, ternyata monek mau...  1  0\n",
              "1       Semakin bertambah usia, semakin cemas hidup.  1  0\n",
              "2                                 gelisah bgt astaga  0  1\n",
              "3  Udah jangan terlalu cemas sikapku tak berubah ...  1  0\n",
              "4  Giliran Aldebaran diambang kematian...Semua ba...  1  0"
            ]
          },
          "metadata": {
            "tags": []
          },
          "execution_count": 82
        }
      ]
    },
    {
      "cell_type": "code",
      "metadata": {
        "id": "DsmO-JFEa2f3"
      },
      "source": [
        "# mengubah nilai-nilai dari dataframe ke dalam tipe data numpy array\n",
        "tweet = df_baru['text'].values\n",
        "label = df_baru[[0,1]].values"
      ],
      "execution_count": 83,
      "outputs": []
    },
    {
      "cell_type": "markdown",
      "metadata": {
        "id": "L6PTeFDDcHSp"
      },
      "source": [
        "# Split Dataset\n",
        "\n",
        "membagi dataset menjadi data train (80%) dan data test (20%)."
      ]
    },
    {
      "cell_type": "code",
      "metadata": {
        "id": "RKqwq7VTa7n-"
      },
      "source": [
        "from sklearn.model_selection import train_test_split\n",
        "tweet_latih, tweet_test, label_latih, label_test = train_test_split(tweet, label, test_size=0.2, stratify=label, random_state=42)"
      ],
      "execution_count": 84,
      "outputs": []
    },
    {
      "cell_type": "markdown",
      "metadata": {
        "id": "YlXdPKyOdM0x"
      },
      "source": [
        "# **Tokenisasi**"
      ]
    },
    {
      "cell_type": "code",
      "metadata": {
        "id": "XKptwyX4bA5W"
      },
      "source": [
        "import tensorflow as tf\n",
        "from tensorflow.keras.preprocessing.text import Tokenizer\n",
        "from tensorflow.keras.preprocessing.sequence import pad_sequences\n",
        " \n",
        "tokenizer = Tokenizer(num_words=5000, oov_token='x')\n",
        "tokenizer.fit_on_texts(tweet_latih) \n",
        "tokenizer.fit_on_texts(tweet_test)"
      ],
      "execution_count": 85,
      "outputs": []
    },
    {
      "cell_type": "markdown",
      "metadata": {
        "id": "qpxcSdoddQ4X"
      },
      "source": [
        "# **Sekuens**"
      ]
    },
    {
      "cell_type": "code",
      "metadata": {
        "id": "CF6nhnd3bCu-"
      },
      "source": [
        "sekuens_latih = tokenizer.texts_to_sequences(tweet_latih)\n",
        "sekuens_test = tokenizer.texts_to_sequences(tweet_test)\n",
        " \n",
        "padded_latih = pad_sequences(sekuens_latih) \n",
        "padded_test = pad_sequences(sekuens_test)\n",
        "\n"
      ],
      "execution_count": 86,
      "outputs": []
    },
    {
      "cell_type": "markdown",
      "metadata": {
        "id": "kDZqRGt9d2yX"
      },
      "source": [
        "# **Arsitektur model**\n",
        "* menggunakan Embedding.\n",
        "* menggunakan LSTM.\n",
        "* menggunakan model sequential.\n",
        "* mengimplementasikan callback."
      ]
    },
    {
      "cell_type": "code",
      "metadata": {
        "colab": {
          "base_uri": "https://localhost:8080/"
        },
        "id": "fQJzFzK5dXTo",
        "outputId": "0b726437-844e-480e-f901-4cc7a16abfd9"
      },
      "source": [
        "import tensorflow as tf\n",
        "model = tf.keras.Sequential([\n",
        "    tf.keras.layers.Embedding(input_dim=5000, output_dim=16),\n",
        "    tf.keras.layers.LSTM(64),\n",
        "    tf.keras.layers.Dense(128, activation='relu'),\n",
        "    tf.keras.layers.Dropout(0.2),\n",
        "    tf.keras.layers.Dense(64, activation='relu'),\n",
        "    tf.keras.layers.Dropout(0.5),\n",
        "    tf.keras.layers.Dense(2, activation='softmax')\n",
        "])\n",
        "model.compile(loss='categorical_crossentropy',optimizer='adam',metrics=['accuracy'])\n",
        "\n",
        "## membuat kelas callback\n",
        "class myCallback(tf.keras.callbacks.Callback):\n",
        "  def on_epoch_end(self, epoch, logs={}):\n",
        "    if(logs.get('accuracy')>0.76) and (logs.get('val_accuracy')>0.76):\n",
        "      print(\"\\nAkurasi telah mencapai >75%!\") #untuk ditampilkan ketika callback aktif.\n",
        "      self.model.stop_training = True\n",
        "callbacks = myCallback()\n",
        "\n",
        "num_epochs = 200\n",
        "history = model.fit(padded_latih, label_latih, epochs=num_epochs, \n",
        "                    validation_data=(padded_test, label_test), verbose=2,\n",
        "                    callbacks=[callbacks],\n",
        "                    batch_size=40,\n",
        "                    steps_per_epoch=40)"
      ],
      "execution_count": 90,
      "outputs": [
        {
          "output_type": "stream",
          "text": [
            "Epoch 1/200\n",
            "40/40 - 3s - loss: 0.6389 - accuracy: 0.6650 - val_loss: 0.6136 - val_accuracy: 0.6667\n",
            "Epoch 2/200\n",
            "40/40 - 1s - loss: 0.5513 - accuracy: 0.7050 - val_loss: 0.5235 - val_accuracy: 0.7551\n",
            "Epoch 3/200\n",
            "40/40 - 1s - loss: 0.3699 - accuracy: 0.8625 - val_loss: 0.6785 - val_accuracy: 0.7778\n",
            "\n",
            "Akurasi telah mencapai >75%!\n"
          ],
          "name": "stdout"
        }
      ]
    },
    {
      "cell_type": "markdown",
      "metadata": {
        "id": "t6AdDEDvdqS_"
      },
      "source": [
        "# **Plot loss dan akurasi**"
      ]
    },
    {
      "cell_type": "code",
      "metadata": {
        "colab": {
          "base_uri": "https://localhost:8080/",
          "height": 573
        },
        "id": "gGZXXq7YbFZX",
        "outputId": "9b4bd633-145e-48cb-9b63-8f306df11428"
      },
      "source": [
        "import matplotlib.pyplot as plt\n",
        "plt.plot(history.history['accuracy'])\n",
        "plt.plot(history.history['val_accuracy'])\n",
        "plt.title('Akurasi Model')\n",
        "plt.ylabel('accuracy')\n",
        "plt.xlabel('epoch')\n",
        "plt.legend(['train', 'test'], loc='upper left')\n",
        "plt.show()\n",
        "\n",
        "plt.plot(history.history['loss'])\n",
        "plt.plot(history.history['val_loss'])\n",
        "plt.title('Loss Model')\n",
        "plt.ylabel('loss')\n",
        "plt.xlabel('epoch')\n",
        "plt.legend(['train', 'test'], loc='upper left')\n",
        "plt.show()"
      ],
      "execution_count": 91,
      "outputs": [
        {
          "output_type": "display_data",
          "data": {
            "image/png": "[encoded data removed]",
            "text/plain": [
              "<Figure size 432x288 with 1 Axes>"
            ]
          },
          "metadata": {
            "tags": [],
            "needs_background": "light"
          }
        },
        {
          "output_type": "display_data",
          "data": {
            "image/png": "[encoded data removed]",
            "text/plain": [
              "<Figure size 432x288 with 1 Axes>"
            ]
          },
          "metadata": {
            "tags": [],
            "needs_background": "light"
          }
        }
      ]
    },
    {
      "cell_type": "code",
      "metadata": {
        "colab": {
          "base_uri": "https://localhost:8080/"
        },
        "id": "in-N4QTSbIKH",
        "outputId": "9b158220-9aa8-457e-8a78-5153b45a797e"
      },
      "source": [
        "model.evaluate(padded_test, label_test)"
      ],
      "execution_count": 92,
      "outputs": [
        {
          "output_type": "stream",
          "text": [
            "14/14 [==============================] - 0s 10ms/step - loss: 0.6785 - accuracy: 0.7778\n"
          ],
          "name": "stdout"
        },
        {
          "output_type": "execute_result",
          "data": {
            "text/plain": [
              "[0.6785212159156799, 0.7777777910232544]"
            ]
          },
          "metadata": {
            "tags": []
          },
          "execution_count": 92
        }
      ]
    }
  ]
}